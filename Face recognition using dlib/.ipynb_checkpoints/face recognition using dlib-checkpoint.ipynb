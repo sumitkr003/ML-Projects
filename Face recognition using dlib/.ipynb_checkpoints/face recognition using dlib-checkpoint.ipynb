{
 "cells": [
  {
   "cell_type": "code",
   "execution_count": 1,
   "metadata": {},
   "outputs": [],
   "source": [
    "import face_recognition\n",
    "import cv2\n",
    "import numpy as np\n",
    "import glob\n",
    "import os\n",
    "import logging"
   ]
  },
  {
   "cell_type": "code",
   "execution_count": 2,
   "metadata": {},
   "outputs": [],
   "source": [
    "IMAGES_PATH = './images'  # put your reference images in here\n",
    "CAMERA_DEVICE_ID = 0\n",
    "MAX_DISTANCE = 0.6  # increase to make recognition less strict, decrease to make more strict"
   ]
  },
  {
   "cell_type": "code",
   "execution_count": 3,
   "metadata": {},
   "outputs": [],
   "source": [
    "def get_face_embeddings_from_image(image, convert_to_rgb=False):\n",
    "    \"\"\"\n",
    "    Take a raw image and run both the face detection and face embedding model on it\n",
    "    \"\"\"\n",
    "    # Convert from BGR to RGB if needed\n",
    "    if convert_to_rgb:\n",
    "        image = image[:, :, ::-1]\n",
    "\n",
    "    # run the face detection model to find face locations\n",
    "    face_locations = face_recognition.face_locations(image)\n",
    "\n",
    "    # run the embedding model to get face embeddings for the supplied locations\n",
    "    face_encodings = face_recognition.face_encodings(image, face_locations)\n",
    "\n",
    "    return face_locations, face_encodings"
   ]
  },
  {
   "cell_type": "code",
   "execution_count": 4,
   "metadata": {},
   "outputs": [],
   "source": [
    "def setup_database():\n",
    "    \"\"\"\n",
    "    Load reference images and create a database of their face encodings\n",
    "    \"\"\"\n",
    "    database = {}\n",
    "\n",
    "    for filename in glob.glob(os.path.join(IMAGES_PATH, '*.jpg')):\n",
    "        # load image\n",
    "        image_rgb = face_recognition.load_image_file(filename)\n",
    "\n",
    "        # use the name in the filename as the identity key\n",
    "        identity = os.path.splitext(os.path.basename(filename))[0]\n",
    "\n",
    "        # get the face encoding and link it to the identity\n",
    "        locations, encodings = get_face_embeddings_from_image(image_rgb)\n",
    "        database[identity] = encodings[0]\n",
    "\n",
    "    return database"
   ]
  },
  {
   "cell_type": "code",
   "execution_count": 5,
   "metadata": {},
   "outputs": [],
   "source": [
    "\n",
    "def paint_detected_face_on_image(frame, location, name=None):\n",
    "    \"\"\"\n",
    "    Paint a rectangle around the face and write the name\n",
    "    \"\"\"\n",
    "    # unpack the coordinates from the location tuple\n",
    "    top, right, bottom, left = location\n",
    "\n",
    "    if name is None:\n",
    "        name = 'Unknown'\n",
    "        color = (0, 0, 255)  # red for unrecognized face\n",
    "    else:\n",
    "        color = (0, 128, 0)  # dark green for recognized face\n",
    "\n",
    "    # Draw a box around the face\n",
    "    cv2.rectangle(frame, (left, top), (right, bottom), color, 2)\n",
    "\n",
    "    # Draw a label with a name below the face\n",
    "    cv2.rectangle(frame, (left, bottom - 35), (right, bottom), color, cv2.FILLED)\n",
    "    cv2.putText(frame, name, (left + 6, bottom - 6), cv2.FONT_HERSHEY_DUPLEX, 1.0, (255, 255, 255), 1)"
   ]
  },
  {
   "cell_type": "code",
   "execution_count": 6,
   "metadata": {},
   "outputs": [],
   "source": [
    "\n",
    "def run_face_recognition(database):\n",
    "    \"\"\"\n",
    "    Start the face recognition via the webcam\n",
    "    \"\"\"\n",
    "    # Open a handler for the camera\n",
    "    video_capture = cv2.VideoCapture(CAMERA_DEVICE_ID)\n",
    "\n",
    "    # the face_recognitino library uses keys and values of your database separately\n",
    "    known_face_encodings = list(database.values())\n",
    "    known_face_names = list(database.keys())\n",
    "    \n",
    "    while video_capture.isOpened():\n",
    "        # Grab a single frame of video (and check if it went ok)\n",
    "        ok, frame = video_capture.read()\n",
    "        if not ok:\n",
    "            logging.error(\"Could not read frame from camera. Stopping video capture.\")\n",
    "            break\n",
    "\n",
    "        # run detection and embedding models\n",
    "        face_locations, face_encodings = get_face_embeddings_from_image(frame, convert_to_rgb=True)\n",
    "\n",
    "        # Loop through each face in this frame of video and see if there's a match\n",
    "        for location, face_encoding in zip(face_locations, face_encodings):\n",
    "\n",
    "            # get the distances from this encoding to those of all reference images\n",
    "            distances = face_recognition.face_distance(known_face_encodings, face_encoding)\n",
    "\n",
    "            # select the closest match (smallest distance) if it's below the threshold value\n",
    "            if np.any(distances <= MAX_DISTANCE):\n",
    "                best_match_idx = np.argmin(distances)\n",
    "                name = known_face_names[best_match_idx]\n",
    "            else:\n",
    "                name = None\n",
    "\n",
    "            # put recognition info on the image\n",
    "            paint_detected_face_on_image(frame, location, name)\n",
    "\n",
    "        # Display the resulting image\n",
    "        cv2.imshow('Video', frame)\n",
    "\n",
    "        # Hit 'q' on the keyboard to quit!\n",
    "        if cv2.waitKey(1) & 0xFF == ord('q'):\n",
    "            break\n",
    "\n",
    "    # Release handle to the webcam\n",
    "    video_capture.release()\n",
    "    cv2.destroyAllWindows()"
   ]
  },
  {
   "cell_type": "code",
   "execution_count": 8,
   "metadata": {},
   "outputs": [],
   "source": [
    "database = setup_database()\n",
    "run_face_recognition(database)"
   ]
  }
 ],
 "metadata": {
  "kernelspec": {
   "display_name": "Python 3",
   "language": "python",
   "name": "python3"
  },
  "language_info": {
   "codemirror_mode": {
    "name": "ipython",
    "version": 3
   },
   "file_extension": ".py",
   "mimetype": "text/x-python",
   "name": "python",
   "nbconvert_exporter": "python",
   "pygments_lexer": "ipython3",
   "version": "3.5.2"
  }
 },
 "nbformat": 4,
 "nbformat_minor": 2
}
